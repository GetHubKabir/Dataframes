{
 "cells": [
  {
   "cell_type": "code",
   "execution_count": null,
   "metadata": {},
   "outputs": [],
   "source": [
    "# 100 days Python Course"
   ]
  },
  {
   "cell_type": "code",
   "execution_count": null,
   "metadata": {},
   "outputs": [],
   "source": [
    "print (\"Day -1 String Manipulation\")\n",
    "print ('String manipulation is done with \"+\" Sign')\n",
    "print ('e. g. print(\" Hello\" + \"World\")')\n",
    "print (\"Day -1 String Manipulation\")"
   ]
  },
  {
   "cell_type": "code",
   "execution_count": null,
   "metadata": {},
   "outputs": [],
   "source": [
    "print(\"Hello: \" + input(\"What is name?\"))\n",
    "print (len(input(\"What is your name?\")))\n"
   ]
  },
  {
   "cell_type": "code",
   "execution_count": 4,
   "metadata": {},
   "outputs": [
    {
     "name": "stdout",
     "output_type": "stream",
     "text": [
      "What is your name? gfhgfg\n",
      "6\n"
     ]
    }
   ],
   "source": [
    "name = input(\"What is your name? \")\n",
    "print(len(name))"
   ]
  },
  {
   "cell_type": "code",
   "execution_count": null,
   "metadata": {},
   "outputs": [],
   "source": [
    "a = input(\"a: \")\n",
    "\n",
    "b = input(\"b: \")\n",
    "\n",
    "a= b, b= a\n",
    "print (a)\n",
    "print(b)"
   ]
  },
  {
   "cell_type": "code",
   "execution_count": null,
   "metadata": {},
   "outputs": [],
   "source": [
    "print(\"Welcome to the tip Calculator\")\n",
    "spend= input(\"what was the total bill?\")\n",
    "Number= input(\"How many people spilit the Bill?\")\n",
    "tip=input (\"what percentage tip would like to give? 10, 12, or 15?\")\n",
    "#print(\"Each person should pay:\" +  (spend\\Number)*(tip\\100))\n",
    "      "
   ]
  },
  {
   "cell_type": "code",
   "execution_count": null,
   "metadata": {},
   "outputs": [],
   "source": [
    "print(\"Hello World\"[2:10])\n"
   ]
  },
  {
   "cell_type": "code",
   "execution_count": null,
   "metadata": {},
   "outputs": [],
   "source": [
    "s = \"Abbey Road\"\n",
    "print(s[0:2] + s[6:10])\n",
    "print(split(s))"
   ]
  },
  {
   "cell_type": "code",
   "execution_count": null,
   "metadata": {},
   "outputs": [],
   "source": [
    "# Adding name and number that is converted to string\n",
    "s = input(\"What is your name, please?\")\n",
    "print (\"My name is\" + \" \" + s + \" that is string\")\n",
    "print(len(str(s)))"
   ]
  },
  {
   "cell_type": "code",
   "execution_count": null,
   "metadata": {},
   "outputs": [],
   "source": [
    "# converting Float and Integer to String and then concatenet\n",
    "\n",
    "a = float(200.50)\n",
    "b= int(100)\n",
    "print(str(a) + (str(b)))\n",
    "print (a + b)"
   ]
  },
  {
   "cell_type": "code",
   "execution_count": null,
   "metadata": {},
   "outputs": [],
   "source": [
    "# string & float can't be concatenet\n",
    "#print(\"Only floating: \" + float(70.90)+float(80.20))\n",
    "\n",
    "print(float(70.90)+float(80.20))\n",
    "print(str(70) + str(100)) \n",
    "print(200 + 300)"
   ]
  },
  {
   "cell_type": "code",
   "execution_count": null,
   "metadata": {},
   "outputs": [],
   "source": [
    "# Process of taking \n",
    "# PMEDAS\n",
    "# 1. ()\n",
    "# 2. **\n",
    "# 3. *\n",
    "# 4. /\n",
    "# 5. +\n",
    "# 6. -\n",
    "\n",
    "print(3*3 + 3 /3 -3)\n",
    "print((3* (3 + 3) /3 -3))"
   ]
  },
  {
   "cell_type": "code",
   "execution_count": null,
   "metadata": {},
   "outputs": [],
   "source": [
    "# Calculate the BMI\n",
    "height = input (\" Enter your height in cm? :\")\n",
    "weight = input (\"Enter your weight in Kg ? :\")\n",
    "BMI = int(weight)/ float(height)**2\n",
    "BMI_as_int = int(BMI)\n",
    "BMI_as_float = float(BMI)\n",
    "print(BMI_as_int)\n",
    "print(round(BMI_as_float))"
   ]
  },
  {
   "cell_type": "code",
   "execution_count": null,
   "metadata": {},
   "outputs": [],
   "source": [
    "# 2 or 3 decimal for floating\n",
    "# Applying round up/ down\n",
    "# Reminder\n",
    "\n",
    "print(5/3)\n",
    "print(round(5/3, 4))\n",
    "print(round(13/3, 4))\n",
    "print (8//3)"
   ]
  },
  {
   "cell_type": "code",
   "execution_count": null,
   "metadata": {
    "scrolled": true
   },
   "outputs": [],
   "source": [
    "# Increamenting from previous value for looping or others\n",
    "# F string in Python\n",
    "score = 5\n",
    "#score=score + 1\n",
    "score +=1\n",
    "print(score)\n",
    "\n",
    "score1 = 4\n",
    "score1 /=3\n",
    "print(score1)\n",
    "\n",
    "score2 = 10\n",
    "score2 -=2\n",
    "print(score2)\n",
    "\n",
    "# without converting to string, you can't concatenate string + integer, you get error message\n",
    "#TypeError: can only concatenate str (not \"int\") to str. Below is the example of it.\n",
    "\n",
    "\n",
    "print (\"Here is your score:\" + str(score))\n"
   ]
  },
  {
   "cell_type": "code",
   "execution_count": null,
   "metadata": {},
   "outputs": [],
   "source": [
    "# f - string for varible and string:\n",
    "\n",
    "height = input (\" Enter your height in cm? :\")\n",
    "weight = input (\"Enter your weight in Kg ? :\")\n",
    "BMI = int(weight)/ float(height)**2\n",
    "print(f\"your weight is {weight}, your height is :, {height}, and your BMI is {BMI}\")"
   ]
  },
  {
   "cell_type": "code",
   "execution_count": null,
   "metadata": {
    "scrolled": true
   },
   "outputs": [],
   "source": [
    "age = input (\" What is your current age? :\")\n",
    "age_int = int(age)\n",
    "print(age_int)\n",
    "remaining_age_years = 90-age_int\n",
    "\n",
    "remaining_days = remaining_age_years * 365\n",
    "remaining_weeks = remaining_age_years * 52\n",
    "remaining_months = remaining_age_years * 12\n",
    "\n",
    "print(remaining_months)\n",
    "print( f\" You have {remaining_days} days, {remaining_weeks} weeks, and {remaining_months} months left\")\n",
    "\n",
    "\n"
   ]
  },
  {
   "cell_type": "code",
   "execution_count": null,
   "metadata": {},
   "outputs": [],
   "source": [
    "print(6 + 4 / 2 - (1*2))\n",
    "\n",
    "a = int(\"5\")/int(2.7)\n",
    "type(a) \n",
    "print(f\"The value of a: {a}\")"
   ]
  },
  {
   "cell_type": "code",
   "execution_count": null,
   "metadata": {},
   "outputs": [],
   "source": [
    "print (\"Welcome to tip Calculator\")\n",
    "bill = float(input (\" What is the total bill $:\"))\n",
    "\n",
    "tip = int(input (\" what percentage of tip would you like to pay: 10, 12, 0r 15? :\"))\n",
    "people = int(input(\"How many people would spilit to this Bill?\"))\n",
    "bill_Tips = float((tip/100) * bill + bill)\n",
    "\n",
    "print(f\"Total tips: {(tip/100) * bill}\")\n",
    "print (f\" total bill with tips$: {bill_Tips} \")\n",
    "\n",
    "each_parson= float(bill_Tips/people)\n",
    "final_amount=round(each_parson, 2)\n",
    "print (each_parson)\n",
    "print(f\"Each parson pay for this Bill {final_amount} dollars\")"
   ]
  },
  {
   "cell_type": "code",
   "execution_count": null,
   "metadata": {},
   "outputs": [],
   "source": [
    "number = int(input(\"What number do you want to enter? :\"))\n",
    "\n",
    "if (number % 2) == 0:\n",
    "    print (f\"This is an even number, because there is a reminder:{number % 2}\")\n",
    "else:\n",
    "    print(f\"This is odd number since reminder retained: {number % 2}\")\n",
    "\n"
   ]
  },
  {
   "cell_type": "code",
   "execution_count": null,
   "metadata": {},
   "outputs": [],
   "source": [
    "print(\"Welcome to Disney Park\")\n",
    "height = float(input(\"Is your height over 4 feet?:\"))\n",
    "\n",
    "if height>= 4:\n",
    "    print (\"You can ride on all roller Coaster\")\n",
    "    \n",
    "    age = int(input(\"What is your age ?\"))\n",
    "    if age >=20:\n",
    "        print (\" You will not get discount\")\n",
    "    elif age<=12:\n",
    "        print (\"You don't have to pay anything\")\n",
    "        \n",
    "    elif age<=15:\n",
    "        print(\"you will have 10% discount\")\n",
    "    else:\n",
    "        print(\"You will get discount of 20% \")\n",
    "\n",
    "else:\n",
    "    print(\" You need a guardian since less than 4 feet\")\n",
    "\n",
    "#if (age >=10 and <=80):\n",
    "# print (\"you can enter all theme parks\")\n",
    "#  if (age >=20 and <=50):\n",
    "#       print(\"there would be no discount\")"
   ]
  },
  {
   "cell_type": "code",
   "execution_count": null,
   "metadata": {},
   "outputs": [],
   "source": [
    "# Calculate the BMI\n",
    "height = float(input (\" Enter your height in cm? :\"))\n",
    "weight = float(input (\"Enter your weight in Kg ? :\"))\n",
    "BMI = (weight)/(height)**2\n",
    "print(BMI)\n",
    "BMI_as_int = int(BMI)\n",
    "BMI_as_float = round(float(BMI), 2)\n",
    "print(BMI_as_int)\n",
    "print(BMI_as_float)\n",
    "\n",
    "if BMI_as_float <= 3.50:\n",
    "    print (f\"Your BMI is {BMI_as_float}, You are under weight\")\n",
    "    \n",
    "elif BMI_as_float <4.5:\n",
    "    print (f\" Your BMI is{BMI_as_float}, you are normal weight\")\n",
    "    \n",
    "elif BMI_as_float <5.5:\n",
    "     print (f\"Your BMI is {BMI_as_float}, You are heavy weight\")\n",
    "        \n",
    "elif BMI_as_float <=6.5:\n",
    "    print (f\"Your BMI is {BMI_as_float}, You are heavy over weight\")\n",
    "\n",
    "else:\n",
    "    print (f\" Your BMI is {BMI_as_float}, You are clinically obbese\")"
   ]
  },
  {
   "cell_type": "code",
   "execution_count": null,
   "metadata": {},
   "outputs": [],
   "source": [
    "# How to calculate Leap Year by divisable via 4, 100 and 400\n",
    "year = int(input(\"Enter year to determine Leap Year or Not:  \"))\n",
    "\n",
    "if year % 4 ==0:\n",
    "    print(f\" this {year}, year is leapier since no reminder exist by 4: {year % 4}\")\n",
    "    \n",
    "    if year % 100 ==0:\n",
    "        print(f\" this {year}, year is leapier since no reminder exist by 100: {year % 100}\")\n",
    "    \n",
    "    else:\n",
    "         print (f\"this {year}, year is not leapier since reminder exist by 100:  {year % 100}\")\n",
    "               \n",
    "         if year % 400 ==0:\n",
    "                 print (f\"this {year}, year is leapier since no reminder exist by 400:  {year % 400}\")\n",
    "         else:\n",
    "                 print (f\"this {year}, year is not leapier since reminder exist by 400: {year % 400}\")\n",
    "else:\n",
    "    print (f\"this {year}, year is not leapier since reminder exist {year % 4} by 4\")\n",
    "    \n",
    "    \n",
    "    \n",
    "#    if (year % 100) == 0:\n",
    "#        print (f\" this {year}, year is leapier since divisable by 4, reminder {year % 4}, reminder {year % 100} \")\n",
    "            \n",
    "#        if (year % 400) != 0:\n",
    "#           print (f\" this {year}, year is leaper divisable by 4 & {year % 100}, not divisable by 400\")\n",
    " \n",
    "#    print(f \" This is Not {year} leap year \")\n",
    "        \n",
    "# & {year % 100}, not divisable by 100\")\n",
    "        \n",
    "        \n"
   ]
  },
  {
   "cell_type": "code",
   "execution_count": null,
   "metadata": {},
   "outputs": [],
   "source": [
    "# Multple If statements\n",
    "print(\"Welcome to Disney Park\")\n",
    "height = int(input(\"Is your height over 120 cm?:\"))\n",
    "\n",
    "bill = 5\n",
    "\n",
    "if height>= 120:\n",
    "    print (\"You can ride on all rollerCoaster\")\n",
    "    \n",
    "    age = int(input(\"What is your age ?\"))\n",
    "    if age <=12:\n",
    "        bill = 5\n",
    "        print (\" child tickets are $ 5\")\n",
    "        \n",
    "    elif age<=15:\n",
    "        bill = 7\n",
    "        print (\" youth tickets are $ 7\")\n",
    "        \n",
    "    elif age<=19:\n",
    "        bill = 9\n",
    "        print(\" medium aged tickets are $ 12\")\n",
    "        \n",
    "    elif age>= 30 and age <=45:\n",
    "        print(\" You will get 20% discount \")\n",
    "        bill = (9)*(0.20)\n",
    "        \n",
    "    else:\n",
    "        print(\"You will get discount of 20% \")\n",
    "        \n",
    "    photo = input (\" Do you want to take photo? Y or N \")\n",
    "    if photo == 'Y':\n",
    "        # add 3 dollars into Bill\n",
    "        \n",
    "        Tot_bill = bill + 3\n",
    "        print(f\"Your final bill is {Tot_bill}\")\n",
    "    \n",
    "\n",
    "else:\n",
    "    print(\" You need to get taller before you can start ride\")"
   ]
  },
  {
   "cell_type": "code",
   "execution_count": null,
   "metadata": {},
   "outputs": [],
   "source": [
    "# Create a bill for Small, Medium and Large and then if they want to add cheese, pepperoni\n",
    "print(\"Welcome to Python Pizza Deliveries\")\n",
    "size = input(\"What size of pizza do you want? S, M or L\")\n",
    "extra_pepperoni = input(\"Do you want pepperoni? Y or N\")\n",
    "cheese = input(\"Do you want Cheese? Y or N\")\n",
    "\n",
    "bill = 0\n",
    "if size == 'S':\n",
    "     bill = bill + 15      \n",
    "\n",
    "elif size == 'M':\n",
    "    bill = bill + 20\n",
    "\n",
    "elif size == 'L':\n",
    "    bill = bill + 25\n",
    "    \n",
    "if extra_pepperoni=='Y':\n",
    "    \n",
    "    if size =='S':\n",
    "        bill =  bill + 2\n",
    "    else:\n",
    "        bill = bill + 3        \n",
    "        \n",
    "if cheese=='Y':\n",
    "            bill =  bill + 1\n",
    "            print(\"Total Bill : \", bill) \n",
    "\n",
    "else:\n",
    "    print(' Entered different than S, M, L')\n",
    "            "
   ]
  },
  {
   "cell_type": "code",
   "execution_count": null,
   "metadata": {},
   "outputs": [],
   "source": [
    "##### Calculator for measuring Love\n",
    "name1 = input(\"What is your name? \\n\")\n",
    "name2 = input(\"What is others name? \\n\")\n",
    "\n",
    "combined_string= name1 + \" \" + name2\n",
    "lower_comb=combined_string.lower()\n",
    "print(lower_comb)\n",
    "\n",
    "t=lower_comb.count('t')\n",
    "r=lower_comb.count('r')\n",
    "u=lower_comb.count('u')\n",
    "e=lower_comb.count('e')\n",
    "true = t + r + u + e\n",
    "print(true)\n",
    "\n",
    "l=lower_comb.count('l')\n",
    "o=lower_comb.count('o')\n",
    "v=lower_comb.count('v')\n",
    "e=lower_comb.count('e')\n",
    "love = l + o + v + e\n",
    "print('total love calculation:', love)\n",
    "\n",
    "love_score = str(true) + str(love)\n",
    "print('love_score')\n",
    "int_score = int(love_score)\n",
    "print('Love score in integer:', int_score)\n",
    "\n",
    "if (int_score<=10) or (int_score >=90):\n",
    "    print('You can start living together {int_score}')\n",
    "    \n",
    "elif (int_score >=40) and (int_score <=50):\n",
    "    print('You can be super in love {love_score}')\n",
    "\n",
    "else:\n",
    "    print('Your love score is:  {love_score}')"
   ]
  },
  {
   "cell_type": "code",
   "execution_count": null,
   "metadata": {},
   "outputs": [],
   "source": [
    "# Generating Randomisation:\n",
    "import random\n",
    "# Generating randomly between 1 to 10\n",
    "random_integer = random.randint(1, 10)\n",
    "print (random_integer)\n",
    "\n",
    "# Generating randomly between 0 to .999999\n",
    "random_float = random.random()\n",
    "print (random_float)\n",
    "\n",
    "# Generating randomly between 0 to .999999 times 5 between 0 to 4.999\n",
    "\n",
    "random_float = random.random()*5\n",
    "print (random_float)\n",
    "\n",
    "love_score = random.randint(1, 10)\n",
    "print(f\"love_score is: {love_score}\")"
   ]
  },
  {
   "cell_type": "code",
   "execution_count": null,
   "metadata": {},
   "outputs": [],
   "source": [
    "# Head or Tails\n",
    "import random\n",
    "\n",
    "random_side= random.randint(0,1)\n",
    "if random_side ==1:\n",
    "    print(f\" Winning to six: Head: {random_side}\")\n",
    "else:\n",
    "    print(f\" No winning: Tails: {random_side}\")"
   ]
  },
  {
   "cell_type": "code",
   "execution_count": null,
   "metadata": {},
   "outputs": [],
   "source": [
    "#--------------------------------List---------------------------------------------------------------------------------\n",
    "\n",
    "# List of United States joining in States\n",
    "\n",
    "States_Of_America =['Delaware', 'Pennsylvania', 'New Jersey', 'Georgia', 'Connecticut', 'Massachusetts', 'Maryland', \n",
    "       'South Carolina', 'New Hampshire', 'Virginia', 'New York', 'North Carolina', 'Rhode Island', 'Vermont', \n",
    "       'Kentucky', 'Tennessee', 'Ohio', 'Louisiana', 'Indiana', 'Mississippi', 'Illinois', 'Alabama', 'Maine', \n",
    "       'Missouri', 'Arkansas', 'Michigan', 'Florida', 'Texas', 'Iowa', 'Wisconsin', 'California', 'Minnesota', \n",
    "       'Oregon', 'Kansas', 'West Virginia', 'Nevada', 'Nebraska', 'Colorado', 'North Dakota', 'South Dakota', \n",
    "       'Montana', 'Washington', 'Idaho', 'Wyoming', 'Utah', 'Oklahoma', 'New Mexico', 'Arizona', 'Alaska', 'Hawaii']\n",
    "\n",
    "print(States_Of_America)  \n",
    "\n",
    "print(States_Of_America[0])\n",
    "print(States_Of_America[-1])"
   ]
  },
  {
   "cell_type": "code",
   "execution_count": null,
   "metadata": {},
   "outputs": [],
   "source": [
    "List = ['Apple', 'Orange', 'Pears', 'Mangos']"
   ]
  },
  {
   "cell_type": "code",
   "execution_count": null,
   "metadata": {},
   "outputs": [],
   "source": [
    "#list.append(x)\n",
    "#Add an item to the end of the list. Equivalent to a[len(a):] = [x].\n",
    "\n",
    "List.append('Strawberry')\n",
    "print(List)"
   ]
  },
  {
   "cell_type": "code",
   "execution_count": null,
   "metadata": {},
   "outputs": [],
   "source": [
    "#list.extend(iterable)\n",
    "# Extend the list by appending all the items from the iterable. Equivalent to a[len(a):] = iterable.\n",
    "List.extend('Strawberry')\n",
    "print(List)"
   ]
  },
  {
   "cell_type": "code",
   "execution_count": null,
   "metadata": {},
   "outputs": [],
   "source": [
    "Mylist = ['a', ['b'], ['d'], [1], [2], [3], [4]]\n",
    "Mylist.extend(['x', 'y', 'z'])\n",
    "print(Mylist)"
   ]
  },
  {
   "cell_type": "code",
   "execution_count": null,
   "metadata": {},
   "outputs": [],
   "source": [
    "name = input(\"Give me list of names with comma and space:\")\n",
    "names = name.split(\", \")\n",
    "name_items= len(names)\n",
    "print(\"Number of name provided: \", name_items)\n",
    "\n",
    "\n",
    "import random\n",
    "\n",
    "names_random = random.randint(0, name_items-1)\n",
    "print(\"Index of chosen parson: \", names_random)\n",
    "\n",
    "random_choice=names[names_random]\n",
    "\n",
    "print(f\"{random_choice}, will pay the bill\")"
   ]
  },
  {
   "cell_type": "code",
   "execution_count": null,
   "metadata": {},
   "outputs": [],
   "source": [
    "fruits = [\"Strawberries\", \"Nectarines\", \"Apples\", \"Grapes\", \"Peaches\", \"Cherries\", \"Pears\"]\n",
    "fruits[-1] = \"Melons\"\n",
    "fruits.append(\"Lemons\")\n",
    "print(fruits)"
   ]
  },
  {
   "cell_type": "code",
   "execution_count": null,
   "metadata": {},
   "outputs": [],
   "source": [
    "fruits = [\"Strawberries\", \"Nectarines\", \"Apples\", \"Grapes\", \"Peaches\", \"Cherries\", \"Pears\"]\n",
    "vegetables = [\"Spinach\", \"Kale\", \"Tomatoes\", \"Celery\", \"Potatoes\"]\n",
    "dirty_dozen = [fruits, vegetables]\n",
    "print(dirty_dozen)\n",
    "print(dirty_dozen[1][1])\n",
    "print(dirty_dozen[0])\n",
    "print(dirty_dozen[1])\n",
    "print(dirty_dozen[1][2])\n",
    "print(dirty_dozen[1][3])"
   ]
  },
  {
   "cell_type": "code",
   "execution_count": null,
   "metadata": {},
   "outputs": [],
   "source": [
    "# Sec 5 : Loop\n",
    "print (\"Welcome to Pypassword generator\")\n",
    "passowrd1 = input(\"How many letters would you like to have in password ?\")\n",
    "passowrd2 = input(\"How many symbols would you like in password ?\")\n",
    "passowrd3 = input(\"How many numbers would you like in password ?\")"
   ]
  },
  {
   "cell_type": "code",
   "execution_count": null,
   "metadata": {},
   "outputs": [],
   "source": [
    "Fruits = ['Apple', 'Pears', 'Mangos', 'Peach']\n",
    "\n",
    "for i in Fruits:\n",
    "    print(\"List of elements in fruits:\", i)"
   ]
  },
  {
   "cell_type": "code",
   "execution_count": 3,
   "metadata": {},
   "outputs": [
    {
     "name": "stdout",
     "output_type": "stream",
     "text": [
      "Enter number of heights: 60 50 80 55 90\n",
      "5\n",
      "335\n",
      "Average heights:  67.0\n",
      " calculating total height by for loop: 335\n",
      "Number of list:  5\n",
      "calculating average height by loop: 67\n"
     ]
    }
   ],
   "source": [
    "# Calculate average height after adding various height\n",
    "\n",
    "heights = input(\"Enter number of heights: no comma but space \").split()\n",
    "num = len(heights)\n",
    "print (num)\n",
    "\n",
    "for n in range(0, num):\n",
    "    heights[n] = int(heights[n])\n",
    "print(sum(heights))   \n",
    "\n",
    "Ave = round(sum(heights)/num)\n",
    "print (\"Average heights: \", float(Ave))\n",
    "\n",
    "# Using For Loop for summing up and number of list\n",
    "\n",
    "total_height = 0\n",
    "for i in heights:\n",
    "    total_height = total_height + i\n",
    "    #print(\"list of heights: \", total_height)\n",
    "\n",
    "print(\" calculating total height by for loop:\", total_height)\n",
    "\n",
    "num_student = 0\n",
    "\n",
    "for j in heights:\n",
    "    num_student = num_student + 1\n",
    "    \n",
    "print(\"Number of list: \", num_student)\n",
    "\n",
    "ave_height_loop = round(total_height/num_student)\n",
    "print(\"calculating average height by loop:\",ave_height_loop)"
   ]
  },
  {
   "cell_type": "code",
   "execution_count": null,
   "metadata": {},
   "outputs": [],
   "source": [
    "#Password Generator Project\n",
    "import random\n",
    "letters = ['a', 'b', 'c', 'd', 'e', 'f', 'g', 'h', 'i', 'j', 'k', 'l', 'm', 'n', 'o', 'p', 'q', 'r', 's', 't', 'u', 'v',\n",
    "           'w', 'x', 'y', 'z', 'A', 'B', 'C', 'D', 'E', 'F', 'G', 'H', 'I', 'J', 'K', 'L', 'M', 'N', 'O', 'P', 'Q', 'R', \n",
    "           'S', 'T', 'U', 'V', 'W', 'X', 'Y', 'Z']"
   ]
  },
  {
   "cell_type": "code",
   "execution_count": null,
   "metadata": {},
   "outputs": [],
   "source": []
  }
 ],
 "metadata": {
  "kernelspec": {
   "display_name": "Python 3",
   "language": "python",
   "name": "python3"
  },
  "language_info": {
   "codemirror_mode": {
    "name": "ipython",
    "version": 3
   },
   "file_extension": ".py",
   "mimetype": "text/x-python",
   "name": "python",
   "nbconvert_exporter": "python",
   "pygments_lexer": "ipython3",
   "version": "3.7.3"
  }
 },
 "nbformat": 4,
 "nbformat_minor": 2
}
